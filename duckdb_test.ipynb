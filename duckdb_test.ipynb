{
 "cells": [
  {
   "cell_type": "code",
   "execution_count": 1,
   "metadata": {},
   "outputs": [],
   "source": [
    "import duckdb\n",
    "\n",
    "# Connect to DuckDB (or create a new database file)\n",
    "con = duckdb.connect('olympics_tokyo.db')"
   ]
  },
  {
   "cell_type": "code",
   "execution_count": 2,
   "metadata": {},
   "outputs": [
    {
     "data": {
      "text/plain": [
       "['csvfiles\\\\Athletes.csv',\n",
       " 'csvfiles\\\\Coaches.csv',\n",
       " 'csvfiles\\\\EntriesGender.csv',\n",
       " 'csvfiles\\\\Medals.csv',\n",
       " 'csvfiles\\\\Teams.csv']"
      ]
     },
     "execution_count": 2,
     "metadata": {},
     "output_type": "execute_result"
    }
   ],
   "source": [
    "from glob import glob\n",
    "\n",
    "glob('csvfiles/*')"
   ]
  },
  {
   "cell_type": "code",
   "execution_count": 3,
   "metadata": {},
   "outputs": [],
   "source": [
    "csv_files = {\n",
    "    'athletes': './csvfiles/Athletes.csv',\n",
    "    'medals': './csvfiles/Medals.csv',\n",
    "    'teams': './csvfiles/Teams.csv',\n",
    "    'coaches': './csvfiles/Coaches.csv',\n",
    "    'entriesgender': './csvfiles/EntriesGender.csv'\n",
    "}"
   ]
  },
  {
   "cell_type": "code",
   "execution_count": 4,
   "metadata": {},
   "outputs": [],
   "source": [
    "for table_name, file_path in csv_files.items():\n",
    "    con.execute(f\"CREATE TABLE {table_name} AS SELECT * FROM read_csv_auto('{file_path}',ignore_errors=True);\")"
   ]
  },
  {
   "cell_type": "code",
   "execution_count": 5,
   "metadata": {},
   "outputs": [
    {
     "name": "stdout",
     "output_type": "stream",
     "text": [
      "[('AALERUD Katrine', 'Norway', 'Cycling Road'), ('ABAD Nestor', 'Spain', 'Artistic Gymnastics'), ('ABAGNALE Giovanni', 'Italy', 'Rowing'), ('ABALDE Alberto', 'Spain', 'Basketball'), ('ABALDE Tamara', 'Spain', 'Basketball')]\n",
      "[(1, 'United States of America', 39, 41, 33, 113, 1), (2, \"People's Republic of China\", 38, 32, 18, 88, 2), (3, 'Japan', 27, 14, 17, 58, 5), (4, 'Great Britain', 22, 21, 22, 65, 4), (5, 'ROC', 20, 28, 23, 71, 3)]\n",
      "[('Belgium', '3x3 Basketball', 'Belgium', 'Men'), ('China', '3x3 Basketball', \"People's Republic of China\", 'Men'), ('China', '3x3 Basketball', \"People's Republic of China\", 'Women'), ('France', '3x3 Basketball', 'France', 'Women'), ('Italy', '3x3 Basketball', 'Italy', 'Women')]\n",
      "[('ABDELMAGID Wael', 'Egypt', 'Football', None), ('ABE Junya', 'Japan', 'Volleyball', None), ('ABE Katsuhiko', 'Japan', 'Basketball', None), ('AGEBA Yuya', 'Japan', 'Volleyball', None), ('AIKMAN Siegfried Gottlieb', 'Japan', 'Hockey', 'Men')]\n",
      "[('3x3 Basketball', 32, 32, 64), ('Archery', 64, 64, 128), ('Artistic Gymnastics', 98, 98, 196), ('Artistic Swimming', 105, 0, 105), ('Athletics', 969, 1072, 2041)]\n"
     ]
    }
   ],
   "source": [
    "print(con.execute(\"SELECT * FROM athletes LIMIT 5;\").fetchall())\n",
    "print(con.execute(\"SELECT * FROM medals LIMIT 5;\").fetchall())\n",
    "print(con.execute(\"SELECT * FROM teams LIMIT 5;\").fetchall())\n",
    "print(con.execute(\"SELECT * FROM coaches LIMIT 5;\").fetchall())\n",
    "print(con.execute(\"SELECT * FROM entriesgender LIMIT 5;\").fetchall())"
   ]
  },
  {
   "cell_type": "code",
   "execution_count": 6,
   "metadata": {},
   "outputs": [],
   "source": [
    "con.close()"
   ]
  },
  {
   "cell_type": "code",
   "execution_count": null,
   "metadata": {},
   "outputs": [],
   "source": []
  }
 ],
 "metadata": {
  "kernelspec": {
   "display_name": "base",
   "language": "python",
   "name": "python3"
  },
  "language_info": {
   "codemirror_mode": {
    "name": "ipython",
    "version": 3
   },
   "file_extension": ".py",
   "mimetype": "text/x-python",
   "name": "python",
   "nbconvert_exporter": "python",
   "pygments_lexer": "ipython3",
   "version": "3.11.7"
  }
 },
 "nbformat": 4,
 "nbformat_minor": 2
}
